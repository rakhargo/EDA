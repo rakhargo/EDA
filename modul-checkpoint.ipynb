{
 "cells": [
  {
   "cell_type": "markdown",
   "metadata": {},
   "source": [
    "## Kelompok 6\n",
    "1. Imam Chalish Rafidhul Haque (2207260)\n",
    "2. Rakha Dhifiargo Hariadi (2209489)\n",
    "3. Salma Ghaida (2207186)\n",
    "4. Themy Sabri Syuhada (2203903)"
   ]
  },
  {
   "cell_type": "markdown",
   "metadata": {},
   "source": [
    "## Praposes data\n",
    "Mengubah tipe data atribut\n",
    "* mengubah datatype atribut status_sinyal menjadi category\n",
    "* mengubah datatype atribut keberadaan_internet, kepemilikan_internet, ketersediaan_tower_bts, keberadaan_telkomsel, keberadaan_indosat, keberadaan_xl_axiata, keberadaan_operator_lain menjadi boolean\n",
    "\n",
    "\n",
    "Mengatasi data yang tidak masuk akal\n",
    "* data pada atribut keberadaan_operator_lain dengan atribut operator lainnya tidak sesuai"
   ]
  },
  {
   "cell_type": "code",
   "execution_count": 37,
   "metadata": {},
   "outputs": [],
   "source": [
    "%matplotlib inline\n",
    "import numpy as np\n",
    "import pandas as pd\n",
    "import matplotlib.pyplot as plt\n",
    "import seaborn as sns"
   ]
  },
  {
   "cell_type": "code",
   "execution_count": 38,
   "metadata": {
    "scrolled": true
   },
   "outputs": [
    {
     "data": {
      "text/html": [
       "<div>\n",
       "<style scoped>\n",
       "    .dataframe tbody tr th:only-of-type {\n",
       "        vertical-align: middle;\n",
       "    }\n",
       "\n",
       "    .dataframe tbody tr th {\n",
       "        vertical-align: top;\n",
       "    }\n",
       "\n",
       "    .dataframe thead th {\n",
       "        text-align: right;\n",
       "    }\n",
       "</style>\n",
       "<table border=\"1\" class=\"dataframe\">\n",
       "  <thead>\n",
       "    <tr style=\"text-align: right;\">\n",
       "      <th></th>\n",
       "      <th>bps_nama_desa</th>\n",
       "      <th>status_sinyal</th>\n",
       "      <th>keberadaan_internet</th>\n",
       "      <th>kepemilikan_internet</th>\n",
       "      <th>ketersediaan_tower_bts</th>\n",
       "      <th>jarak_tower_terdekat</th>\n",
       "      <th>keberadaan_telkomsel</th>\n",
       "      <th>keberadaan_indosat</th>\n",
       "      <th>keberadaan_xl_axiata</th>\n",
       "      <th>keberadaan_operator_lain</th>\n",
       "      <th>operator_lainnya</th>\n",
       "      <th>tahun</th>\n",
       "    </tr>\n",
       "  </thead>\n",
       "  <tbody>\n",
       "    <tr>\n",
       "      <th>0</th>\n",
       "      <td>WANAHERANG</td>\n",
       "      <td>SINYAL KUAT</td>\n",
       "      <td>ADA</td>\n",
       "      <td>ADA</td>\n",
       "      <td>ADA</td>\n",
       "      <td>1.0</td>\n",
       "      <td>ADA</td>\n",
       "      <td>ADA</td>\n",
       "      <td>ADA</td>\n",
       "      <td>ADA</td>\n",
       "      <td>TRI</td>\n",
       "      <td>2021</td>\n",
       "    </tr>\n",
       "    <tr>\n",
       "      <th>1</th>\n",
       "      <td>BOJONG KULUR</td>\n",
       "      <td>SINYAL KUAT</td>\n",
       "      <td>ADA</td>\n",
       "      <td>ADA</td>\n",
       "      <td>ADA</td>\n",
       "      <td>1.0</td>\n",
       "      <td>ADA</td>\n",
       "      <td>ADA</td>\n",
       "      <td>ADA</td>\n",
       "      <td>ADA</td>\n",
       "      <td>TRI</td>\n",
       "      <td>2021</td>\n",
       "    </tr>\n",
       "    <tr>\n",
       "      <th>2</th>\n",
       "      <td>CIANGSANA</td>\n",
       "      <td>SINYAL KUAT</td>\n",
       "      <td>ADA</td>\n",
       "      <td>ADA</td>\n",
       "      <td>ADA</td>\n",
       "      <td>200.0</td>\n",
       "      <td>ADA</td>\n",
       "      <td>ADA</td>\n",
       "      <td>ADA</td>\n",
       "      <td>ADA</td>\n",
       "      <td>TRI</td>\n",
       "      <td>2021</td>\n",
       "    </tr>\n",
       "    <tr>\n",
       "      <th>3</th>\n",
       "      <td>GUNUNG PUTRI</td>\n",
       "      <td>SINYAL KUAT</td>\n",
       "      <td>ADA</td>\n",
       "      <td>ADA</td>\n",
       "      <td>ADA</td>\n",
       "      <td>1.0</td>\n",
       "      <td>ADA</td>\n",
       "      <td>ADA</td>\n",
       "      <td>ADA</td>\n",
       "      <td>ADA</td>\n",
       "      <td>TRI, AXIS, SMARTFREN</td>\n",
       "      <td>2021</td>\n",
       "    </tr>\n",
       "    <tr>\n",
       "      <th>4</th>\n",
       "      <td>BOJONG NANGKA</td>\n",
       "      <td>SINYAL KUAT</td>\n",
       "      <td>ADA</td>\n",
       "      <td>ADA</td>\n",
       "      <td>ADA</td>\n",
       "      <td>1.0</td>\n",
       "      <td>ADA</td>\n",
       "      <td>ADA</td>\n",
       "      <td>ADA</td>\n",
       "      <td>ADA</td>\n",
       "      <td>TELKOMSEL, XL, IM3, INDOSAT, AXIS</td>\n",
       "      <td>2021</td>\n",
       "    </tr>\n",
       "  </tbody>\n",
       "</table>\n",
       "</div>"
      ],
      "text/plain": [
       "   bps_nama_desa status_sinyal keberadaan_internet kepemilikan_internet  \\\n",
       "0     WANAHERANG   SINYAL KUAT                 ADA                  ADA   \n",
       "1   BOJONG KULUR   SINYAL KUAT                 ADA                  ADA   \n",
       "2      CIANGSANA   SINYAL KUAT                 ADA                  ADA   \n",
       "3   GUNUNG PUTRI   SINYAL KUAT                 ADA                  ADA   \n",
       "4  BOJONG NANGKA   SINYAL KUAT                 ADA                  ADA   \n",
       "\n",
       "  ketersediaan_tower_bts  jarak_tower_terdekat keberadaan_telkomsel  \\\n",
       "0                    ADA                   1.0                  ADA   \n",
       "1                    ADA                   1.0                  ADA   \n",
       "2                    ADA                 200.0                  ADA   \n",
       "3                    ADA                   1.0                  ADA   \n",
       "4                    ADA                   1.0                  ADA   \n",
       "\n",
       "  keberadaan_indosat keberadaan_xl_axiata keberadaan_operator_lain  \\\n",
       "0                ADA                  ADA                      ADA   \n",
       "1                ADA                  ADA                      ADA   \n",
       "2                ADA                  ADA                      ADA   \n",
       "3                ADA                  ADA                      ADA   \n",
       "4                ADA                  ADA                      ADA   \n",
       "\n",
       "                    operator_lainnya  tahun  \n",
       "0                                TRI   2021  \n",
       "1                                TRI   2021  \n",
       "2                                TRI   2021  \n",
       "3               TRI, AXIS, SMARTFREN   2021  \n",
       "4  TELKOMSEL, XL, IM3, INDOSAT, AXIS   2021  "
      ]
     },
     "execution_count": 38,
     "metadata": {},
     "output_type": "execute_result"
    }
   ],
   "source": [
    "df = pd.read_excel(\"D:\\\\codinglucu\\\\Semester3\\\\DMW\\\\EDA\\\\provider.xlsx\")\n",
    "df_baru = df2[[\"bps_nama_desa\",\"status_sinyal\", \"keberadaan_internet\", \"kepemilikan_internet\", \"ketersediaan_tower_bts\", \"jarak_tower_terdekat\", \"keberadaan_telkomsel\", \"keberadaan_indosat\", \"keberadaan_xl_axiata\", \"keberadaan_operator_lain\", \"operator_lainnya\", \"tahun\"]]\n",
    "df_baru.head(5)"
   ]
  },
  {
   "cell_type": "code",
   "execution_count": 42,
   "metadata": {},
   "outputs": [
    {
     "data": {
      "text/plain": [
       "id                                0\n",
       "kode_provinsi                     0\n",
       "nama_provinsi                     0\n",
       "kode_kabupaten_kota_kemendagri    0\n",
       "nama_kabupaten_kota_kemendagri    0\n",
       "bps_kode_kecamatan                0\n",
       "bps_nama_kecamatan                0\n",
       "bps_kode_desa                     4\n",
       "bps_nama_desa                     4\n",
       "kemendagri_kode_kecamatan         0\n",
       "kemendagri_nama_kecamatan         0\n",
       "kemendagri_kode_desa              4\n",
       "kemendagri_nama_desa              0\n",
       "status_sinyal                     0\n",
       "keberadaan_internet               0\n",
       "kepemilikan_internet              0\n",
       "ketersediaan_tower_bts            0\n",
       "jarak_tower_terdekat              0\n",
       "keberadaan_telkomsel              0\n",
       "keberadaan_indosat                0\n",
       "keberadaan_xl_axiata              0\n",
       "keberadaan_operator_lain          0\n",
       "operator_lainnya                  0\n",
       "tahun                             0\n",
       "dtype: int64"
      ]
     },
     "execution_count": 42,
     "metadata": {},
     "output_type": "execute_result"
    }
   ],
   "source": [
    "# df_baru[\"status_sinyal\"] = df_baru[\"status_sinyal\"].astype(\"category\")\n",
    "# df.isna().sum()"
   ]
  },
  {
   "cell_type": "code",
   "execution_count": null,
   "metadata": {},
   "outputs": [],
   "source": []
  }
 ],
 "metadata": {
  "kernelspec": {
   "display_name": "Python 3 (ipykernel)",
   "language": "python",
   "name": "python3"
  },
  "language_info": {
   "codemirror_mode": {
    "name": "ipython",
    "version": 3
   },
   "file_extension": ".py",
   "mimetype": "text/x-python",
   "name": "python",
   "nbconvert_exporter": "python",
   "pygments_lexer": "ipython3",
   "version": "3.11.4"
  }
 },
 "nbformat": 4,
 "nbformat_minor": 2
}
